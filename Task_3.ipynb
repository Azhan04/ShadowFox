{
  "nbformat": 4,
  "nbformat_minor": 0,
  "metadata": {
    "colab": {
      "provenance": []
    },
    "kernelspec": {
      "name": "python3",
      "display_name": "Python 3"
    },
    "language_info": {
      "name": "python"
    }
  },
  "cells": [
    {
      "cell_type": "code",
      "metadata": {
        "colab": {
          "base_uri": "https://localhost:8080/"
        },
        "collapsed": true,
        "id": "7096e161",
        "outputId": "eee345fc-33e3-4e49-b9dc-c4f1e87dadec"
      },
      "source": [
        "!pip uninstall -y google-generativeai google-ai-generativelanguage\n",
        "!pip install -q -U langchain langchain-google-genai"
      ],
      "execution_count": 1,
      "outputs": [
        {
          "output_type": "stream",
          "name": "stdout",
          "text": [
            "Found existing installation: google-generativeai 0.8.5\n",
            "Uninstalling google-generativeai-0.8.5:\n",
            "  Successfully uninstalled google-generativeai-0.8.5\n",
            "Found existing installation: google-ai-generativelanguage 0.6.15\n",
            "Uninstalling google-ai-generativelanguage-0.6.15:\n",
            "  Successfully uninstalled google-ai-generativelanguage-0.6.15\n",
            "\u001b[2K   \u001b[90m━━━━━━━━━━━━━━━━━━━━━━━━━━━━━━━━━━━━━━━━\u001b[0m \u001b[32m49.4/49.4 kB\u001b[0m \u001b[31m4.2 MB/s\u001b[0m eta \u001b[36m0:00:00\u001b[0m\n",
            "\u001b[2K   \u001b[90m━━━━━━━━━━━━━━━━━━━━━━━━━━━━━━━━━━━━━━━━\u001b[0m \u001b[32m1.4/1.4 MB\u001b[0m \u001b[31m42.4 MB/s\u001b[0m eta \u001b[36m0:00:00\u001b[0m\n",
            "\u001b[2K   \u001b[90m━━━━━━━━━━━━━━━━━━━━━━━━━━━━━━━━━━━━━━━━\u001b[0m \u001b[32m444.0/444.0 kB\u001b[0m \u001b[31m28.7 MB/s\u001b[0m eta \u001b[36m0:00:00\u001b[0m\n",
            "\u001b[?25h"
          ]
        }
      ]
    },
    {
      "cell_type": "code",
      "source": [
        "import os\n",
        "from google.colab import userdata\n",
        "\n",
        "os.environ['GOOGLE_API_KEY'] = userdata.get('GOOGLE_API_KEY')\n",
        "\n",
        "from langchain_google_genai import ChatGoogleGenerativeAI\n",
        "from langchain.prompts import PromptTemplate\n",
        "from langchain_core.output_parsers import StrOutputParser\n",
        "\n",
        "\n",
        "llm = ChatGoogleGenerativeAI(model=\"gemini-2.0-flash\", temperature=0.7)\n",
        "\n",
        "template = \"\"\"\n",
        "You are a helpful and creative writer.\n",
        "Write a short, engaging story about a character named {character_name} who discovers a mysterious {object}.\n",
        "\"\"\"\n",
        "prompt = PromptTemplate(template=template, input_variables=[\"character_name\", \"object\"])\n",
        "\n",
        "story_chain = prompt | llm | StrOutputParser()\n",
        "\n",
        "print(\"--- Running Refactored Text Generation Chain ---\")\n",
        "character_name = \"Elara\"\n",
        "mysterious_object = \"glowing crystal\"\n",
        "response = story_chain.invoke({\"character_name\": character_name, \"object\": mysterious_object})\n",
        "\n",
        "print(response)\n",
        "\n",
        "print(\"\\n\\n\" + \"=\"*50 + \"\\n\\n\")\n",
        "\n",
        "\n",
        "summarization_template = \"\"\"\n",
        "Summarize the following text in a single, concise sentence:\n",
        "{text}\n",
        "\"\"\"\n",
        "summarization_prompt = PromptTemplate(template=summarization_template, input_variables=[\"text\"])\n",
        "\n",
        "sentiment_template = \"\"\"\n",
        "Analyze the sentiment of the following summary. Is it positive, negative, or neutral?\n",
        "Summary: {summary}\n",
        "\"\"\"\n",
        "sentiment_prompt = PromptTemplate(template=sentiment_template, input_variables=[\"summary\"])\n",
        "\n",
        "overall_chain = {\"summary\": summarization_prompt | llm | StrOutputParser()} | sentiment_prompt | llm | StrOutputParser()\n",
        "\n",
        "print(\"--- Running Refactored Sequential Chain for Analysis ---\")\n",
        "long_text = \"\"\"\n",
        "The new software update has been widely praised for its intuitive design and seamless user experience.\n",
        "Customers report a significant improvement in performance and stability, leading to higher satisfaction scores.\n",
        "The company's stock price also saw a notable increase following the release.\n",
        "\"\"\"\n",
        "final_result = overall_chain.invoke({\"text\": long_text})\n",
        "\n",
        "print(\"\\n--- Final Analysis ---\")\n",
        "print(final_result)"
      ],
      "metadata": {
        "colab": {
          "base_uri": "https://localhost:8080/"
        },
        "id": "EvLs3dpcaM0l",
        "outputId": "2835463b-5c74-4023-813b-9ec3b2f44266"
      },
      "execution_count": 25,
      "outputs": [
        {
          "output_type": "stream",
          "name": "stdout",
          "text": [
            "--- Running Refactored Text Generation Chain ---\n",
            "Elara, a wisp of a girl with eyes the color of moss and hair like spun moonlight, was known for two things: getting lost and finding the extraordinary. Today, she was lost, gloriously so, in the Whispering Woods, a place her grandmother warned held more secrets than stars.\n",
            "\n",
            "Sunlight dripped through the canopy in fractured patterns, painting the forest floor in shifting mosaics. Elara, humming a tune only the wind understood, stumbled upon a clearing she’d never seen before. At its heart, nestled amongst the roots of an ancient oak, pulsed a light unlike any she'd witnessed.\n",
            "\n",
            "It was a crystal, the size of her fist, radiating a soft, ethereal glow. The light shimmered, shifting between hues of lavender, emerald, and a deep, fathomless sapphire. It hummed with a low, resonant frequency that vibrated in Elara's bones. Cautiously, she reached out.\n",
            "\n",
            "As her fingers brushed the smooth, cool surface, a jolt, not unpleasant, surged through her. Images flooded her mind: swirling galaxies, whispering voices, the intricate dance of leaves in the wind. It was overwhelming, beautiful, and terrifying all at once.\n",
            "\n",
            "Suddenly, the images stopped. The crystal dimmed, its light softening to a gentle, pulsating throb. Elara gasped, pulling her hand back. She felt… different. Sharper. More attuned to the forest around her. She could hear the murmur of the stream more clearly, the rustle of a squirrel's tail in the branches above, even the silent conversation of the trees.\n",
            "\n",
            "Holding her breath, she reached out again. This time, the crystal responded with a single, clear image: a path, barely visible, leading deeper into the woods. It felt like a beckoning, an invitation.\n",
            "\n",
            "Elara hesitated. Her grandmother's warnings echoed in her ears. But the crystal's light, soft and inviting, felt like a promise. A promise of adventure, of understanding, of something… more.\n",
            "\n",
            "Taking a deep breath, Elara picked up the glowing crystal. Its light pulsed warmly in her palm. With a smile that mirrored the moon, she stepped onto the hidden path, the Whispering Woods embracing her, ready to reveal its secrets, one glowing crystal at a time. The adventure had begun.\n",
            "\n",
            "\n",
            "==================================================\n",
            "\n",
            "\n",
            "--- Running Refactored Sequential Chain for Analysis ---\n",
            "\n",
            "--- Final Analysis ---\n",
            "The sentiment of the summary is **positive**.\n",
            "\n",
            "Here's why:\n",
            "\n",
            "*   **\"Well-received\"**: Indicates a positive reception from the audience.\n",
            "*   **\"Improved design, performance, and stability\"**: These are all positive attributes.\n",
            "*   **\"Boosted customer satisfaction\"**: Explicitly states a positive outcome.\n",
            "*   **\"Company's stock price\"**: Implies a positive impact on the company's financial health.\n"
          ]
        }
      ]
    },
    {
      "cell_type": "code",
      "source": [
        "import os\n",
        "from google.colab import userdata\n",
        "from langchain_google_genai import ChatGoogleGenerativeAI, GoogleGenerativeAIEmbeddings\n",
        "from langchain_core.prompts import ChatPromptTemplate\n",
        "from langchain_core.output_parsers import StrOutputParser\n",
        "from langchain.document_loaders import TextLoader\n",
        "from langchain.text_splitter import RecursiveCharacterTextSplitter\n",
        "from langchain_community.vectorstores import FAISS\n",
        "from langchain.chains.combine_documents import create_stuff_documents_chain\n",
        "from langchain.chains import create_retrieval_chain\n",
        "from google.colab import userdata\n",
        "\n",
        "# API Key\n",
        "os.environ['GOOGLE_API_KEY'] = userdata.get('GOOGLE_API_KEY')\n",
        "\n",
        "sample_text = \"\"\"\n",
        "The Gemini project was a series of ten manned spaceflights conducted by NASA between 1961 and 1966. Its primary objective was to develop and test the skills and technologies necessary for the Apollo missions. These included rendezvous and docking with other spacecraft, long-duration spaceflight, and extravehicular activity (EVA). The Gemini program's success was crucial for the United States to land a man on the Moon.\n",
        "\"\"\"\n",
        "\n",
        "text_splitter = RecursiveCharacterTextSplitter(chunk_size=1000, chunk_overlap=200)\n",
        "docs = text_splitter.create_documents([sample_text])\n",
        "\n",
        "embeddings = GoogleGenerativeAIEmbeddings(model=\"models/embedding-001\")\n",
        "\n",
        "vectorstore = FAISS.from_documents(docs, embeddings)\n",
        "\n",
        "retriever = vectorstore.as_retriever()\n",
        "\n",
        "#LLm Model\n",
        "llm = ChatGoogleGenerativeAI(model=\"gemini-2.0-flash\", temperature=0.7)\n",
        "\n",
        "prompt = ChatPromptTemplate.from_template(\"\"\"\n",
        "Answer the following question based only on the provided context.\n",
        "If you do not know the answer, say \"I don't have enough information to answer.\"\n",
        "\n",
        "Context: {context}\n",
        "\n",
        "Question: {input}\n",
        "\"\"\")\n",
        "\n",
        "document_chain = create_stuff_documents_chain(llm, prompt)\n",
        "\n",
        "retrieval_chain = create_retrieval_chain(retriever, document_chain)\n",
        "\n",
        "print(\"--- Running RAG Chain ---\")\n",
        "\n",
        "response = retrieval_chain.invoke({\"input\": \"What was the main purpose of the Gemini project?\"})\n",
        "\n",
        "print(response[\"answer\"])\n",
        "\n",
        "print(\"\\n--- Example of a question outside the context ---\")\n",
        "\n",
        "response = retrieval_chain.invoke({\"input\": \"Who was the first person to walk on the moon?\"})\n",
        "print(response[\"answer\"])"
      ],
      "metadata": {
        "colab": {
          "base_uri": "https://localhost:8080/"
        },
        "id": "1miH6e-SerNS",
        "outputId": "b8d0ca5d-68d6-43cc-e07c-2cd62dbbeb0b"
      },
      "execution_count": 26,
      "outputs": [
        {
          "output_type": "stream",
          "name": "stdout",
          "text": [
            "--- Running RAG Chain ---\n",
            "The main purpose of the Gemini project was to develop and test the skills and technologies necessary for the Apollo missions.\n",
            "\n",
            "--- Example of a question outside the context ---\n",
            "I don't have enough information to answer.\n"
          ]
        }
      ]
    },
    {
      "cell_type": "code",
      "source": [
        "import os\n",
        "from google.colab import userdata\n",
        "from langchain_google_genai import ChatGoogleGenerativeAI\n",
        "from langchain_community.tools.tavily_search import TavilySearchResults\n",
        "from langchain_core.prompts import ChatPromptTemplate\n",
        "from langchain_core.messages import BaseMessage, HumanMessage, ToolMessage\n",
        "from langgraph.graph import StateGraph, END\n",
        "\n",
        "from pydantic import BaseModel, Field\n",
        "\n",
        "os.environ['GOOGLE_API_KEY'] = userdata.get('GOOGLE_API_KEY')\n",
        "os.environ['TAVILY_API_KEY'] = userdata.get('TAVILY_API_KEY')\n",
        "\n",
        "# Tools\n",
        "tavily_tool = TavilySearchResults(max_results=5)\n",
        "tools = [tavily_tool]\n",
        "\n",
        "model = ChatGoogleGenerativeAI(model=\"gemini-2.0-flash\", temperature=0, tools=tools)\n",
        "\n",
        "\n",
        "class AgentState(BaseModel):\n",
        "    messages: list[BaseMessage] = Field(default_factory=list)\n",
        "    class Config:\n",
        "        arbitrary_types_allowed = True\n",
        "\n",
        "\n",
        "def call_model(state: AgentState):\n",
        "\n",
        "    messages = state.messages\n",
        "    response = model.invoke(messages)\n",
        "    return {\"messages\": [response]}\n",
        "\n",
        "\n",
        "def call_tool(state: AgentState):\n",
        "\n",
        "    last_message = state.messages[-1]\n",
        "\n",
        "\n",
        "    tool_output = last_message.tool_calls[0]['args']['query']\n",
        "    tool_name = last_message.tool_calls[0]['name']\n",
        "\n",
        "\n",
        "    if tool_name == \"tavily_search_results\":\n",
        "        result = tavily_tool.invoke({\"query\": tool_output})\n",
        "    else:\n",
        "        result = \"Tool not found.\"\n",
        "\n",
        "\n",
        "    return {\"messages\": [ToolMessage(content=str(result), tool_call_id=last_message.tool_calls[0].id)]}\n",
        "\n",
        "\n",
        "graph_builder = StateGraph(AgentState)\n",
        "\n",
        "graph_builder.add_node(\"agent\", call_model)\n",
        "graph_builder.add_node(\"tool\", call_tool)\n",
        "\n",
        "graph_builder.set_entry_point(\"agent\")\n",
        "\n",
        "\n",
        "def should_continue(state: AgentState):\n",
        "    last_message = state.messages[-1]\n",
        "\n",
        "    if last_message.tool_calls:\n",
        "        return \"tool\"\n",
        "    else:\n",
        "        return \"end\"\n",
        "\n",
        "\n",
        "graph_builder.add_conditional_edges(\n",
        "    \"agent\",\n",
        "    should_continue,\n",
        "    {\n",
        "        \"tool\": \"tool\",\n",
        "        \"end\": END\n",
        "    }\n",
        ")\n",
        "graph_builder.add_edge('tool', 'agent')\n",
        "\n",
        "\n",
        "graph = graph_builder.compile()\n",
        "\n",
        "\n",
        "print(\"--- Running Multi-Agent System ---\")\n",
        "response = graph.invoke({\"messages\": [HumanMessage(content=\"What is the latest news about the Webb Space Telescope?\")]})\n",
        "\n",
        "final_answer = response['messages'][-1].content\n",
        "print(final_answer)"
      ],
      "metadata": {
        "colab": {
          "base_uri": "https://localhost:8080/"
        },
        "id": "yu9w9LKtgwH3",
        "outputId": "990240c1-af4e-4343-ff03-f84f264c5334"
      },
      "execution_count": 27,
      "outputs": [
        {
          "output_type": "stream",
          "name": "stderr",
          "text": [
            "WARNING:langchain_google_genai.chat_models:Unexpected argument 'tools' provided to ChatGoogleGenerativeAI.\n",
            "/usr/local/lib/python3.12/dist-packages/IPython/core/interactiveshell.py:3553: UserWarning: WARNING! tools is not default parameter.\n",
            "                tools was transferred to model_kwargs.\n",
            "                Please confirm that tools is what you intended.\n",
            "  exec(code_obj, self.user_global_ns, self.user_ns)\n"
          ]
        },
        {
          "output_type": "stream",
          "name": "stdout",
          "text": [
            "--- Running Multi-Agent System ---\n",
            "Here's a summary of the latest news about the James Webb Space Telescope (JWST), focusing on recent highlights:\n",
            "\n",
            "*   **JWST Spots Most Distant Galaxy Candidate Ever:** In May 2024, scientists announced the discovery of a potential galaxy, designated JADES-GS-z14-0, which existed just 290 million years after the Big Bang. If confirmed, this would be the most distant and earliest galaxy ever observed. The galaxy is surprisingly bright and large, challenging existing models of early galaxy formation.\n",
            "\n",
            "*   **JWST Reveals New Details About Exoplanets:** JWST continues to provide unprecedented insights into exoplanets. Recent studies have used JWST to analyze the atmospheres of exoplanets, detecting molecules like methane, water vapor, and carbon dioxide. These observations help scientists understand the composition and potential habitability of these distant worlds.\n",
            "\n",
            "*   **JWST Studies Star Formation in Galaxies:** JWST's infrared capabilities are ideal for studying star formation, which is often obscured by dust. Recent observations have revealed new details about the processes that trigger star formation in galaxies, as well as the properties of young stars and their surrounding environments.\n",
            "\n",
            "*   **JWST Continues to Uncover Secrets of the Early Universe:** JWST is revolutionizing our understanding of the early universe. By observing distant galaxies and quasars, JWST is providing insights into the formation of the first stars and galaxies, as well as the evolution of the universe over cosmic time.\n",
            "\n",
            "*   **JWST's Operations and Performance:** JWST continues to operate smoothly and efficiently. The telescope's instruments are performing exceptionally well, and the mission team is constantly working to optimize its performance and maximize its scientific output.\n",
            "\n",
            "**Where to Find More Detailed Information:**\n",
            "\n",
            "*   **NASA's JWST Website:** The official NASA website for JWST is the best source for the latest news, images, and scientific results.\n",
            "*   **Space Telescope Science Institute (STScI):** STScI is responsible for operating JWST and disseminating its data to the scientific community. Their website also provides news and information about JWST.\n",
            "*   **Scientific Journals:** Many of the scientific results from JWST are published in peer-reviewed journals such as *Nature*, *Science*, and *The Astrophysical Journal*.\n",
            "*   **Reputable Science News Outlets:** Websites like Space.com, Phys.org, and New Scientist provide coverage of JWST's discoveries and activities.\n"
          ]
        }
      ]
    },
    {
      "cell_type": "code",
      "source": [
        "import os\n",
        "from google.colab import userdata\n",
        "from langchain_google_genai import ChatGoogleGenerativeAI, GoogleGenerativeAIEmbeddings\n",
        "from langchain_core.prompts import ChatPromptTemplate\n",
        "from langchain_core.output_parsers import StrOutputParser\n",
        "from langchain.document_loaders import TextLoader\n",
        "from langchain.text_splitter import RecursiveCharacterTextSplitter\n",
        "from langchain_community.vectorstores import FAISS\n",
        "from langchain.chains.combine_documents import create_stuff_documents_chain\n",
        "from langchain.chains import create_retrieval_chain\n",
        "from langchain_core.tools import tool\n",
        "\n",
        "# API Key\n",
        "os.environ['GOOGLE_API_KEY'] = userdata.get('GOOGLE_API_KEY')\n",
        "\n",
        "\n",
        "sample_text = \"\"\"\n",
        "The Gemini project was a series of ten manned spaceflights conducted by NASA between 1961 and 1966. Its primary objective was to develop and test the skills and technologies necessary for the Apollo missions. These included rendezvous and docking with other spacecraft, long-duration spaceflight, and extravehicular activity (EVA). The Gemini program's success was crucial for the United States to land a man on the Moon.\n",
        "\"\"\"\n",
        "text_splitter = RecursiveCharacterTextSplitter(chunk_size=1000, chunk_overlap=200)\n",
        "docs = text_splitter.create_documents([sample_text])\n",
        "embeddings = GoogleGenerativeAIEmbeddings(model=\"models/embedding-001\")\n",
        "vectorstore = FAISS.from_documents(docs, embeddings)\n",
        "retriever = vectorstore.as_retriever()\n",
        "llm = ChatGoogleGenerativeAI(model=\"gemini-2.0-flash\", temperature=0.7)\n",
        "\n",
        "prompt = ChatPromptTemplate.from_template(\"\"\"\n",
        "Answer the following question based only on the provided context.\n",
        "If you do not know the answer, say \"I don't have enough information to answer.\"\n",
        "\n",
        "Context: {context}\n",
        "\n",
        "Question: {input}\n",
        "\"\"\")\n",
        "\n",
        "document_chain = create_stuff_documents_chain(llm, prompt)\n",
        "retrieval_chain = create_retrieval_chain(retriever, document_chain)\n",
        "\n",
        "@tool\n",
        "def get_gemini_project_info(question: str) -> str:\n",
        "    \"\"\"\n",
        "    Retrieves information about the NASA Gemini project.\n",
        "    Use this tool to answer any questions about Gemini's history,\n",
        "    objectives, or key achievements.\n",
        "    \"\"\"\n",
        "    response = retrieval_chain.invoke({\"input\": question})\n",
        "    return response[\"answer\"]\n",
        "\n",
        "\n",
        "tools = [get_gemini_project_info]"
      ],
      "metadata": {
        "id": "LDgRMuNXjCS_"
      },
      "execution_count": 28,
      "outputs": []
    },
    {
      "cell_type": "code",
      "source": [
        "from langchain_core.messages import BaseMessage, HumanMessage, ToolMessage\n",
        "from langgraph.graph import StateGraph, END\n",
        "from pydantic import BaseModel, Field\n",
        "\n",
        "\n",
        "class AgentState(BaseModel):\n",
        "    messages: list[BaseMessage] = Field(default_factory=list)\n",
        "    class Config:\n",
        "        arbitrary_types_allowed = True\n",
        "\n",
        "\n",
        "model = ChatGoogleGenerativeAI(model=\"gemini-2.0-flash\", temperature=0, tools=tools)\n",
        "\n",
        "\n",
        "def call_model(state: AgentState):\n",
        "    messages = state.messages\n",
        "    response = model.invoke(messages)\n",
        "    return {\"messages\": [response]}\n",
        "\n",
        "\n",
        "def call_tool(state: AgentState):\n",
        "    last_message = state.messages[-1]\n",
        "    tool_calls = last_message.tool_calls\n",
        "\n",
        "    responses = []\n",
        "    for tool_call in tool_calls:\n",
        "        tool_output = None\n",
        "        if tool_call.name == \"get_gemini_project_info\":\n",
        "            tool_output = get_gemini_project_info.invoke(tool_call.args['question'])\n",
        "            responses.append(ToolMessage(content=tool_output, tool_call_id=tool_call.id))\n",
        "\n",
        "    return {\"messages\": responses}\n",
        "\n",
        "\n",
        "\n",
        "def should_continue(state: AgentState):\n",
        "    last_message = state.messages[-1]\n",
        "    if last_message.tool_calls:\n",
        "        return \"tool\"\n",
        "    else:\n",
        "        return \"end\"\n",
        "\n",
        "\n",
        "graph_builder = StateGraph(AgentState)\n",
        "graph_builder.add_node(\"agent\", call_model)\n",
        "graph_builder.add_node(\"tool\", call_tool)\n",
        "graph_builder.set_entry_point(\"agent\")\n",
        "graph_builder.add_conditional_edges(\"agent\", should_continue, {\"tool\": \"tool\", \"end\": END})\n",
        "graph_builder.add_edge('tool', 'agent')\n",
        "graph = graph_builder.compile()"
      ],
      "metadata": {
        "colab": {
          "base_uri": "https://localhost:8080/"
        },
        "id": "Kd61EB-ljSB_",
        "outputId": "746ca360-8072-435e-82f1-9397195e5899"
      },
      "execution_count": 29,
      "outputs": [
        {
          "output_type": "stream",
          "name": "stderr",
          "text": [
            "WARNING:langchain_google_genai.chat_models:Unexpected argument 'tools' provided to ChatGoogleGenerativeAI.\n",
            "/usr/local/lib/python3.12/dist-packages/IPython/core/interactiveshell.py:3553: UserWarning: WARNING! tools is not default parameter.\n",
            "                tools was transferred to model_kwargs.\n",
            "                Please confirm that tools is what you intended.\n",
            "  exec(code_obj, self.user_global_ns, self.user_ns)\n"
          ]
        }
      ]
    },
    {
      "cell_type": "code",
      "source": [
        "print(\"--- Testing RAG-Enabled Agent ---\")\n",
        "\n",
        "\n",
        "response1 = graph.invoke({\"messages\": [HumanMessage(content=\"What was the main goal of the Gemini space program?\")]})\n",
        "final_answer1 = response1['messages'][-1].content\n",
        "print(\"Question: What was the main goal of the Gemini space program?\")\n",
        "print(f\"Answer: {final_answer1}\")\n",
        "\n",
        "print(\"\\n\" + \"-\"*50 + \"\\n\")\n",
        "\n",
        "\n",
        "response2 = graph.invoke({\"messages\": [HumanMessage(content=\"What is the capital of France?\")]})\n",
        "final_answer2 = response2['messages'][-1].content\n",
        "print(\"Question: What is the capital of France?\")\n",
        "print(f\"Answer: {final_answer2}\")"
      ],
      "metadata": {
        "colab": {
          "base_uri": "https://localhost:8080/"
        },
        "id": "XpXxiUnljeUw",
        "outputId": "e26c39bb-f51e-437a-ffb0-40b08989be03"
      },
      "execution_count": 30,
      "outputs": [
        {
          "output_type": "stream",
          "name": "stdout",
          "text": [
            "--- Testing RAG-Enabled Agent ---\n",
            "Question: What was the main goal of the Gemini space program?\n",
            "Answer: The main goal of the Gemini space program was to **develop the techniques and technology necessary to achieve the goal of landing humans on the Moon before the end of the 1960s**, as set forth by President John F. Kennedy.\n",
            "\n",
            "Specifically, Gemini aimed to:\n",
            "\n",
            "*   **Develop and demonstrate rendezvous and docking techniques:** This was crucial for lunar orbit rendezvous, the chosen method for the Apollo missions.\n",
            "*   **Conduct extravehicular activity (EVA) or spacewalks:** To understand how humans could work outside a spacecraft in the harsh environment of space.\n",
            "*   **Study the effects of long-duration spaceflight on humans:** To ensure astronauts could endure the longer Apollo missions.\n",
            "*   **Perfect re-entry and landing techniques:** To ensure a safe return to Earth.\n",
            "*   **Gain experience in controlling spacecraft during flight:** To improve maneuverability and navigation.\n",
            "\n",
            "In essence, Gemini was a bridge between the single-person Mercury program and the complex, multi-person Apollo program. It provided the essential skills and knowledge needed to make the lunar landing a reality.\n",
            "\n",
            "--------------------------------------------------\n",
            "\n",
            "Question: What is the capital of France?\n",
            "Answer: The capital of France is **Paris**.\n"
          ]
        }
      ]
    },
    {
      "cell_type": "code",
      "source": [
        "import matplotlib.pyplot as plt\n",
        "import numpy as np\n",
        "\n",
        "\n",
        "tasks = ['Creative Generation', 'Sentiment Analysis', 'RAG (Internal)', 'RAG with No Context']\n",
        "scores = [4.5, 5.0, 5.0, 1.0]\n",
        "\n",
        "\n",
        "fig, ax = plt.subplots(figsize=(10, 6))\n",
        "bar_positions = np.arange(len(tasks))\n",
        "bars = ax.bar(bar_positions, scores, color=['#9c27b0', '#563d7c', '#5d4037', '#b71c1c'])\n",
        "\n",
        "\n",
        "ax.set_ylabel('Helpfulness Score (1-5)')\n",
        "ax.set_title('Gemini Agent Performance Across Different Tasks')\n",
        "ax.set_xticks(bar_positions)\n",
        "ax.set_xticklabels(tasks, rotation=15, ha=\"right\")\n",
        "ax.set_ylim(0, 5.5)\n",
        "\n",
        "\n",
        "for bar in bars:\n",
        "    yval = bar.get_height()\n",
        "    ax.text(bar.get_x() + bar.get_width()/2, yval + 0.1, round(yval, 1), ha='center', va='bottom')\n",
        "\n",
        "plt.tight_layout()\n",
        "plt.show()"
      ],
      "metadata": {
        "colab": {
          "base_uri": "https://localhost:8080/",
          "height": 607
        },
        "id": "JQ5P3-iPWJHO",
        "outputId": "c6c005fb-8466-40c3-fc77-bbf10120ad84"
      },
      "execution_count": 31,
      "outputs": [
        {
          "output_type": "display_data",
          "data": {
            "text/plain": [
              "<Figure size 1000x600 with 1 Axes>"
            ],
            "image/png": "[encoded data removed]"
          },
          "metadata": {}
        }
      ]
    }
  ]
}